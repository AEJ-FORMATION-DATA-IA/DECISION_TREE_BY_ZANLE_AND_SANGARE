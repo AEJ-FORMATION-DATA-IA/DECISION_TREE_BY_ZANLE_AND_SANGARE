{
 "cells": [
  {
   "cell_type": "code",
   "execution_count": 115,
   "id": "ff964b58",
   "metadata": {},
   "outputs": [],
   "source": [
    "import numpy as np\n",
    "import pandas as pd\n",
    "import matplotlib.pyplot as plt \n",
    "import seaborn as sns \n",
    "from sklearn.model_selection import train_test_split\n",
    "from sklearn.preprocessing import StandardScaler\n",
    "from sklearn import tree\n",
    "from sklearn.metrics import recall_score,precision_score,classification_report\n",
    "from sklearn.metrics import confusion_matrix\n"
   ]
  },
  {
   "cell_type": "code",
   "execution_count": 116,
   "id": "37004edf",
   "metadata": {},
   "outputs": [],
   "source": [
    "#importation des données\n",
    "data=pd.read_excel(\"Coeur.xlsx\")"
   ]
  },
  {
   "cell_type": "code",
   "execution_count": 117,
   "id": "729da3d4",
   "metadata": {},
   "outputs": [],
   "source": [
    "#copie des données \n",
    "df=data.copy()"
   ]
  },
  {
   "cell_type": "code",
   "execution_count": 118,
   "id": "241ab87b",
   "metadata": {},
   "outputs": [
    {
     "data": {
      "text/html": [
       "<div>\n",
       "<style scoped>\n",
       "    .dataframe tbody tr th:only-of-type {\n",
       "        vertical-align: middle;\n",
       "    }\n",
       "\n",
       "    .dataframe tbody tr th {\n",
       "        vertical-align: top;\n",
       "    }\n",
       "\n",
       "    .dataframe thead th {\n",
       "        text-align: right;\n",
       "    }\n",
       "</style>\n",
       "<table border=\"1\" class=\"dataframe\">\n",
       "  <thead>\n",
       "    <tr style=\"text-align: right;\">\n",
       "      <th></th>\n",
       "      <th>AGE</th>\n",
       "      <th>SEXE</th>\n",
       "      <th>TDT</th>\n",
       "      <th>PAR</th>\n",
       "      <th>CHOLESTEROL</th>\n",
       "      <th>GAJ</th>\n",
       "      <th>ECG</th>\n",
       "      <th>FCMAX</th>\n",
       "      <th>ANGINE</th>\n",
       "      <th>DEPRESSION</th>\n",
       "      <th>PENTE</th>\n",
       "      <th>CŒUR</th>\n",
       "    </tr>\n",
       "  </thead>\n",
       "  <tbody>\n",
       "    <tr>\n",
       "      <th>0</th>\n",
       "      <td>40</td>\n",
       "      <td>homme</td>\n",
       "      <td>AA</td>\n",
       "      <td>140</td>\n",
       "      <td>289</td>\n",
       "      <td>0</td>\n",
       "      <td>Normal</td>\n",
       "      <td>172</td>\n",
       "      <td>Non</td>\n",
       "      <td>0.0</td>\n",
       "      <td>Ascendant</td>\n",
       "      <td>0</td>\n",
       "    </tr>\n",
       "    <tr>\n",
       "      <th>1</th>\n",
       "      <td>49</td>\n",
       "      <td>femme</td>\n",
       "      <td>DNA</td>\n",
       "      <td>160</td>\n",
       "      <td>180</td>\n",
       "      <td>0</td>\n",
       "      <td>Normal</td>\n",
       "      <td>156</td>\n",
       "      <td>Non</td>\n",
       "      <td>1.0</td>\n",
       "      <td>Plat</td>\n",
       "      <td>1</td>\n",
       "    </tr>\n",
       "    <tr>\n",
       "      <th>2</th>\n",
       "      <td>37</td>\n",
       "      <td>homme</td>\n",
       "      <td>AA</td>\n",
       "      <td>130</td>\n",
       "      <td>283</td>\n",
       "      <td>0</td>\n",
       "      <td>ST</td>\n",
       "      <td>98</td>\n",
       "      <td>Non</td>\n",
       "      <td>0.0</td>\n",
       "      <td>Ascendant</td>\n",
       "      <td>0</td>\n",
       "    </tr>\n",
       "    <tr>\n",
       "      <th>3</th>\n",
       "      <td>48</td>\n",
       "      <td>femme</td>\n",
       "      <td>ASY</td>\n",
       "      <td>138</td>\n",
       "      <td>214</td>\n",
       "      <td>0</td>\n",
       "      <td>Normal</td>\n",
       "      <td>108</td>\n",
       "      <td>Oui</td>\n",
       "      <td>1.5</td>\n",
       "      <td>Plat</td>\n",
       "      <td>1</td>\n",
       "    </tr>\n",
       "    <tr>\n",
       "      <th>4</th>\n",
       "      <td>54</td>\n",
       "      <td>homme</td>\n",
       "      <td>DNA</td>\n",
       "      <td>150</td>\n",
       "      <td>195</td>\n",
       "      <td>0</td>\n",
       "      <td>Normal</td>\n",
       "      <td>122</td>\n",
       "      <td>Non</td>\n",
       "      <td>0.0</td>\n",
       "      <td>Ascendant</td>\n",
       "      <td>0</td>\n",
       "    </tr>\n",
       "    <tr>\n",
       "      <th>5</th>\n",
       "      <td>39</td>\n",
       "      <td>homme</td>\n",
       "      <td>DNA</td>\n",
       "      <td>120</td>\n",
       "      <td>339</td>\n",
       "      <td>0</td>\n",
       "      <td>Normal</td>\n",
       "      <td>170</td>\n",
       "      <td>Non</td>\n",
       "      <td>0.0</td>\n",
       "      <td>Ascendant</td>\n",
       "      <td>0</td>\n",
       "    </tr>\n",
       "    <tr>\n",
       "      <th>6</th>\n",
       "      <td>45</td>\n",
       "      <td>femme</td>\n",
       "      <td>AA</td>\n",
       "      <td>130</td>\n",
       "      <td>237</td>\n",
       "      <td>0</td>\n",
       "      <td>Normal</td>\n",
       "      <td>170</td>\n",
       "      <td>Non</td>\n",
       "      <td>0.0</td>\n",
       "      <td>Ascendant</td>\n",
       "      <td>0</td>\n",
       "    </tr>\n",
       "    <tr>\n",
       "      <th>7</th>\n",
       "      <td>54</td>\n",
       "      <td>homme</td>\n",
       "      <td>AA</td>\n",
       "      <td>110</td>\n",
       "      <td>208</td>\n",
       "      <td>0</td>\n",
       "      <td>Normal</td>\n",
       "      <td>142</td>\n",
       "      <td>Non</td>\n",
       "      <td>0.0</td>\n",
       "      <td>Ascendant</td>\n",
       "      <td>0</td>\n",
       "    </tr>\n",
       "    <tr>\n",
       "      <th>8</th>\n",
       "      <td>37</td>\n",
       "      <td>homme</td>\n",
       "      <td>ASY</td>\n",
       "      <td>140</td>\n",
       "      <td>207</td>\n",
       "      <td>0</td>\n",
       "      <td>Normal</td>\n",
       "      <td>130</td>\n",
       "      <td>Oui</td>\n",
       "      <td>1.5</td>\n",
       "      <td>Plat</td>\n",
       "      <td>1</td>\n",
       "    </tr>\n",
       "    <tr>\n",
       "      <th>9</th>\n",
       "      <td>48</td>\n",
       "      <td>femme</td>\n",
       "      <td>AA</td>\n",
       "      <td>120</td>\n",
       "      <td>284</td>\n",
       "      <td>0</td>\n",
       "      <td>Normal</td>\n",
       "      <td>120</td>\n",
       "      <td>Non</td>\n",
       "      <td>0.0</td>\n",
       "      <td>Ascendant</td>\n",
       "      <td>0</td>\n",
       "    </tr>\n",
       "  </tbody>\n",
       "</table>\n",
       "</div>"
      ],
      "text/plain": [
       "   AGE   SEXE  TDT  PAR  CHOLESTEROL  GAJ     ECG  FCMAX ANGINE  DEPRESSION   \\\n",
       "0   40  homme   AA  140          289    0  Normal    172    Non          0.0   \n",
       "1   49  femme  DNA  160          180    0  Normal    156    Non          1.0   \n",
       "2   37  homme   AA  130          283    0      ST     98    Non          0.0   \n",
       "3   48  femme  ASY  138          214    0  Normal    108    Oui          1.5   \n",
       "4   54  homme  DNA  150          195    0  Normal    122    Non          0.0   \n",
       "5   39  homme  DNA  120          339    0  Normal    170    Non          0.0   \n",
       "6   45  femme   AA  130          237    0  Normal    170    Non          0.0   \n",
       "7   54  homme   AA  110          208    0  Normal    142    Non          0.0   \n",
       "8   37  homme  ASY  140          207    0  Normal    130    Oui          1.5   \n",
       "9   48  femme   AA  120          284    0  Normal    120    Non          0.0   \n",
       "\n",
       "       PENTE  CŒUR  \n",
       "0  Ascendant     0  \n",
       "1       Plat     1  \n",
       "2  Ascendant     0  \n",
       "3       Plat     1  \n",
       "4  Ascendant     0  \n",
       "5  Ascendant     0  \n",
       "6  Ascendant     0  \n",
       "7  Ascendant     0  \n",
       "8       Plat     1  \n",
       "9  Ascendant     0  "
      ]
     },
     "execution_count": 118,
     "metadata": {},
     "output_type": "execute_result"
    }
   ],
   "source": [
    "df.head(10)"
   ]
  },
  {
   "cell_type": "markdown",
   "id": "6570daa5",
   "metadata": {},
   "source": [
    "# 1-verification de doublon et suppression "
   ]
  },
  {
   "cell_type": "code",
   "execution_count": 119,
   "id": "67db493e",
   "metadata": {},
   "outputs": [
    {
     "data": {
      "text/plain": [
       "0"
      ]
     },
     "execution_count": 119,
     "metadata": {},
     "output_type": "execute_result"
    }
   ],
   "source": [
    "#duplicated permet de verifier si des lignes sont identique et sum permet de compter toute les lignes qui sont dupliqué\n",
    "df.duplicated().sum()"
   ]
  },
  {
   "cell_type": "markdown",
   "id": "24b45063",
   "metadata": {},
   "source": [
    "# 2- vérification des valeurs manquantes "
   ]
  },
  {
   "cell_type": "code",
   "execution_count": 120,
   "id": "62f532dd",
   "metadata": {},
   "outputs": [
    {
     "data": {
      "text/plain": [
       "AGE            0\n",
       "SEXE           0\n",
       "TDT            0\n",
       "PAR            0\n",
       "CHOLESTEROL    0\n",
       "GAJ            0\n",
       "ECG            0\n",
       "FCMAX          0\n",
       "ANGINE         0\n",
       "DEPRESSION     0\n",
       "PENTE          0\n",
       "CŒUR           0\n",
       "dtype: int64"
      ]
     },
     "execution_count": 120,
     "metadata": {},
     "output_type": "execute_result"
    }
   ],
   "source": [
    "#vérification de valeurs manquantes\n",
    "df.isna().sum()"
   ]
  },
  {
   "cell_type": "markdown",
   "id": "239d6991",
   "metadata": {},
   "source": [
    "# 3-vérification des constantes et si oui suppression"
   ]
  },
  {
   "cell_type": "code",
   "execution_count": 121,
   "id": "eaf882e8",
   "metadata": {},
   "outputs": [],
   "source": [
    "#vérification de constante\n",
    "def constante(df):\n",
    "    list_const=[]\n",
    "    for col in df.columns:\n",
    "        if len(df[col].unique())<1:\n",
    "            list_const.append(col)\n",
    "        else:\n",
    "            pass\n",
    "    return len(list_const)\n",
    "            \n",
    "        \n",
    "#df.nunique()    "
   ]
  },
  {
   "cell_type": "code",
   "execution_count": 122,
   "id": "bd774b1a",
   "metadata": {},
   "outputs": [
    {
     "data": {
      "text/plain": [
       "0"
      ]
     },
     "execution_count": 122,
     "metadata": {},
     "output_type": "execute_result"
    }
   ],
   "source": [
    "constante(df)"
   ]
  },
  {
   "cell_type": "markdown",
   "id": "80342724",
   "metadata": {},
   "source": [
    "# 4- récodons les variables qualitative"
   ]
  },
  {
   "cell_type": "code",
   "execution_count": 123,
   "id": "3cb35380",
   "metadata": {},
   "outputs": [],
   "source": [
    "#division de nos feature en variable qualitative et numerique\n",
    "var_numer=df._get_numeric_data().columns\n",
    "var_qual=list(set(df.columns) - set(var_numer))"
   ]
  },
  {
   "cell_type": "code",
   "execution_count": 124,
   "id": "d706be98",
   "metadata": {},
   "outputs": [],
   "source": [
    "# l'encodage des variables qualitative\n",
    "def recoder(serie):\n",
    "    return serie.astype('category').cat.codes"
   ]
  },
  {
   "cell_type": "code",
   "execution_count": 125,
   "id": "c53ddb6c",
   "metadata": {},
   "outputs": [],
   "source": [
    "def encodage(df):\n",
    "    for  i in df.select_dtypes(\"object\").columns:\n",
    "        df[i]=recoder(df[i])\n",
    "    return df"
   ]
  },
  {
   "cell_type": "code",
   "execution_count": 126,
   "id": "9e29b5c2",
   "metadata": {},
   "outputs": [
    {
     "data": {
      "text/html": [
       "<div>\n",
       "<style scoped>\n",
       "    .dataframe tbody tr th:only-of-type {\n",
       "        vertical-align: middle;\n",
       "    }\n",
       "\n",
       "    .dataframe tbody tr th {\n",
       "        vertical-align: top;\n",
       "    }\n",
       "\n",
       "    .dataframe thead th {\n",
       "        text-align: right;\n",
       "    }\n",
       "</style>\n",
       "<table border=\"1\" class=\"dataframe\">\n",
       "  <thead>\n",
       "    <tr style=\"text-align: right;\">\n",
       "      <th></th>\n",
       "      <th>AGE</th>\n",
       "      <th>SEXE</th>\n",
       "      <th>TDT</th>\n",
       "      <th>PAR</th>\n",
       "      <th>CHOLESTEROL</th>\n",
       "      <th>GAJ</th>\n",
       "      <th>ECG</th>\n",
       "      <th>FCMAX</th>\n",
       "      <th>ANGINE</th>\n",
       "      <th>DEPRESSION</th>\n",
       "      <th>PENTE</th>\n",
       "      <th>CŒUR</th>\n",
       "    </tr>\n",
       "  </thead>\n",
       "  <tbody>\n",
       "    <tr>\n",
       "      <th>0</th>\n",
       "      <td>40</td>\n",
       "      <td>1</td>\n",
       "      <td>0</td>\n",
       "      <td>140</td>\n",
       "      <td>289</td>\n",
       "      <td>0</td>\n",
       "      <td>1</td>\n",
       "      <td>172</td>\n",
       "      <td>0</td>\n",
       "      <td>0.0</td>\n",
       "      <td>0</td>\n",
       "      <td>0</td>\n",
       "    </tr>\n",
       "    <tr>\n",
       "      <th>1</th>\n",
       "      <td>49</td>\n",
       "      <td>0</td>\n",
       "      <td>3</td>\n",
       "      <td>160</td>\n",
       "      <td>180</td>\n",
       "      <td>0</td>\n",
       "      <td>1</td>\n",
       "      <td>156</td>\n",
       "      <td>0</td>\n",
       "      <td>1.0</td>\n",
       "      <td>2</td>\n",
       "      <td>1</td>\n",
       "    </tr>\n",
       "    <tr>\n",
       "      <th>2</th>\n",
       "      <td>37</td>\n",
       "      <td>1</td>\n",
       "      <td>0</td>\n",
       "      <td>130</td>\n",
       "      <td>283</td>\n",
       "      <td>0</td>\n",
       "      <td>2</td>\n",
       "      <td>98</td>\n",
       "      <td>0</td>\n",
       "      <td>0.0</td>\n",
       "      <td>0</td>\n",
       "      <td>0</td>\n",
       "    </tr>\n",
       "    <tr>\n",
       "      <th>3</th>\n",
       "      <td>48</td>\n",
       "      <td>0</td>\n",
       "      <td>1</td>\n",
       "      <td>138</td>\n",
       "      <td>214</td>\n",
       "      <td>0</td>\n",
       "      <td>1</td>\n",
       "      <td>108</td>\n",
       "      <td>1</td>\n",
       "      <td>1.5</td>\n",
       "      <td>2</td>\n",
       "      <td>1</td>\n",
       "    </tr>\n",
       "    <tr>\n",
       "      <th>4</th>\n",
       "      <td>54</td>\n",
       "      <td>1</td>\n",
       "      <td>3</td>\n",
       "      <td>150</td>\n",
       "      <td>195</td>\n",
       "      <td>0</td>\n",
       "      <td>1</td>\n",
       "      <td>122</td>\n",
       "      <td>0</td>\n",
       "      <td>0.0</td>\n",
       "      <td>0</td>\n",
       "      <td>0</td>\n",
       "    </tr>\n",
       "    <tr>\n",
       "      <th>...</th>\n",
       "      <td>...</td>\n",
       "      <td>...</td>\n",
       "      <td>...</td>\n",
       "      <td>...</td>\n",
       "      <td>...</td>\n",
       "      <td>...</td>\n",
       "      <td>...</td>\n",
       "      <td>...</td>\n",
       "      <td>...</td>\n",
       "      <td>...</td>\n",
       "      <td>...</td>\n",
       "      <td>...</td>\n",
       "    </tr>\n",
       "    <tr>\n",
       "      <th>913</th>\n",
       "      <td>45</td>\n",
       "      <td>1</td>\n",
       "      <td>2</td>\n",
       "      <td>110</td>\n",
       "      <td>264</td>\n",
       "      <td>0</td>\n",
       "      <td>1</td>\n",
       "      <td>132</td>\n",
       "      <td>0</td>\n",
       "      <td>1.2</td>\n",
       "      <td>2</td>\n",
       "      <td>1</td>\n",
       "    </tr>\n",
       "    <tr>\n",
       "      <th>914</th>\n",
       "      <td>68</td>\n",
       "      <td>1</td>\n",
       "      <td>1</td>\n",
       "      <td>144</td>\n",
       "      <td>193</td>\n",
       "      <td>1</td>\n",
       "      <td>1</td>\n",
       "      <td>141</td>\n",
       "      <td>0</td>\n",
       "      <td>3.4</td>\n",
       "      <td>2</td>\n",
       "      <td>1</td>\n",
       "    </tr>\n",
       "    <tr>\n",
       "      <th>915</th>\n",
       "      <td>57</td>\n",
       "      <td>1</td>\n",
       "      <td>1</td>\n",
       "      <td>130</td>\n",
       "      <td>131</td>\n",
       "      <td>0</td>\n",
       "      <td>1</td>\n",
       "      <td>115</td>\n",
       "      <td>1</td>\n",
       "      <td>1.2</td>\n",
       "      <td>2</td>\n",
       "      <td>1</td>\n",
       "    </tr>\n",
       "    <tr>\n",
       "      <th>916</th>\n",
       "      <td>57</td>\n",
       "      <td>0</td>\n",
       "      <td>0</td>\n",
       "      <td>130</td>\n",
       "      <td>236</td>\n",
       "      <td>0</td>\n",
       "      <td>0</td>\n",
       "      <td>174</td>\n",
       "      <td>0</td>\n",
       "      <td>0.0</td>\n",
       "      <td>2</td>\n",
       "      <td>1</td>\n",
       "    </tr>\n",
       "    <tr>\n",
       "      <th>917</th>\n",
       "      <td>38</td>\n",
       "      <td>1</td>\n",
       "      <td>3</td>\n",
       "      <td>138</td>\n",
       "      <td>175</td>\n",
       "      <td>0</td>\n",
       "      <td>1</td>\n",
       "      <td>173</td>\n",
       "      <td>0</td>\n",
       "      <td>0.0</td>\n",
       "      <td>0</td>\n",
       "      <td>0</td>\n",
       "    </tr>\n",
       "  </tbody>\n",
       "</table>\n",
       "<p>918 rows × 12 columns</p>\n",
       "</div>"
      ],
      "text/plain": [
       "     AGE  SEXE  TDT  PAR  CHOLESTEROL  GAJ  ECG  FCMAX  ANGINE  DEPRESSION   \\\n",
       "0     40     1    0  140          289    0    1    172       0          0.0   \n",
       "1     49     0    3  160          180    0    1    156       0          1.0   \n",
       "2     37     1    0  130          283    0    2     98       0          0.0   \n",
       "3     48     0    1  138          214    0    1    108       1          1.5   \n",
       "4     54     1    3  150          195    0    1    122       0          0.0   \n",
       "..   ...   ...  ...  ...          ...  ...  ...    ...     ...          ...   \n",
       "913   45     1    2  110          264    0    1    132       0          1.2   \n",
       "914   68     1    1  144          193    1    1    141       0          3.4   \n",
       "915   57     1    1  130          131    0    1    115       1          1.2   \n",
       "916   57     0    0  130          236    0    0    174       0          0.0   \n",
       "917   38     1    3  138          175    0    1    173       0          0.0   \n",
       "\n",
       "     PENTE  CŒUR  \n",
       "0        0     0  \n",
       "1        2     1  \n",
       "2        0     0  \n",
       "3        2     1  \n",
       "4        0     0  \n",
       "..     ...   ...  \n",
       "913      2     1  \n",
       "914      2     1  \n",
       "915      2     1  \n",
       "916      2     1  \n",
       "917      0     0  \n",
       "\n",
       "[918 rows x 12 columns]"
      ]
     },
     "execution_count": 126,
     "metadata": {},
     "output_type": "execute_result"
    }
   ],
   "source": [
    "encodage(df)\n",
    "    "
   ]
  },
  {
   "cell_type": "code",
   "execution_count": null,
   "id": "19e4b7df",
   "metadata": {},
   "outputs": [],
   "source": []
  },
  {
   "cell_type": "markdown",
   "id": "f26b9a0b",
   "metadata": {},
   "source": [
    "# NORMALISATION DES VARIABLES QUANTITATIVES"
   ]
  },
  {
   "cell_type": "code",
   "execution_count": 127,
   "id": "d2db56ee",
   "metadata": {},
   "outputs": [],
   "source": [
    "def normalisation(df):\n",
    "    for col in var_numer:\n",
    "        if col=='CŒUR':\n",
    "            pass\n",
    "        else:\n",
    "             \n",
    "            df[col]=df[col]/df[col].max()\n",
    "    return df"
   ]
  },
  {
   "cell_type": "code",
   "execution_count": 128,
   "id": "10bc0553",
   "metadata": {},
   "outputs": [
    {
     "data": {
      "text/html": [
       "<div>\n",
       "<style scoped>\n",
       "    .dataframe tbody tr th:only-of-type {\n",
       "        vertical-align: middle;\n",
       "    }\n",
       "\n",
       "    .dataframe tbody tr th {\n",
       "        vertical-align: top;\n",
       "    }\n",
       "\n",
       "    .dataframe thead th {\n",
       "        text-align: right;\n",
       "    }\n",
       "</style>\n",
       "<table border=\"1\" class=\"dataframe\">\n",
       "  <thead>\n",
       "    <tr style=\"text-align: right;\">\n",
       "      <th></th>\n",
       "      <th>AGE</th>\n",
       "      <th>SEXE</th>\n",
       "      <th>TDT</th>\n",
       "      <th>PAR</th>\n",
       "      <th>CHOLESTEROL</th>\n",
       "      <th>GAJ</th>\n",
       "      <th>ECG</th>\n",
       "      <th>FCMAX</th>\n",
       "      <th>ANGINE</th>\n",
       "      <th>DEPRESSION</th>\n",
       "      <th>PENTE</th>\n",
       "      <th>CŒUR</th>\n",
       "    </tr>\n",
       "  </thead>\n",
       "  <tbody>\n",
       "    <tr>\n",
       "      <th>0</th>\n",
       "      <td>0.519481</td>\n",
       "      <td>1</td>\n",
       "      <td>0</td>\n",
       "      <td>0.70</td>\n",
       "      <td>0.479270</td>\n",
       "      <td>0.0</td>\n",
       "      <td>1</td>\n",
       "      <td>0.851485</td>\n",
       "      <td>0</td>\n",
       "      <td>0.000000</td>\n",
       "      <td>0</td>\n",
       "      <td>0</td>\n",
       "    </tr>\n",
       "    <tr>\n",
       "      <th>1</th>\n",
       "      <td>0.636364</td>\n",
       "      <td>0</td>\n",
       "      <td>3</td>\n",
       "      <td>0.80</td>\n",
       "      <td>0.298507</td>\n",
       "      <td>0.0</td>\n",
       "      <td>1</td>\n",
       "      <td>0.772277</td>\n",
       "      <td>0</td>\n",
       "      <td>0.161290</td>\n",
       "      <td>2</td>\n",
       "      <td>1</td>\n",
       "    </tr>\n",
       "    <tr>\n",
       "      <th>2</th>\n",
       "      <td>0.480519</td>\n",
       "      <td>1</td>\n",
       "      <td>0</td>\n",
       "      <td>0.65</td>\n",
       "      <td>0.469320</td>\n",
       "      <td>0.0</td>\n",
       "      <td>2</td>\n",
       "      <td>0.485149</td>\n",
       "      <td>0</td>\n",
       "      <td>0.000000</td>\n",
       "      <td>0</td>\n",
       "      <td>0</td>\n",
       "    </tr>\n",
       "    <tr>\n",
       "      <th>3</th>\n",
       "      <td>0.623377</td>\n",
       "      <td>0</td>\n",
       "      <td>1</td>\n",
       "      <td>0.69</td>\n",
       "      <td>0.354892</td>\n",
       "      <td>0.0</td>\n",
       "      <td>1</td>\n",
       "      <td>0.534653</td>\n",
       "      <td>1</td>\n",
       "      <td>0.241935</td>\n",
       "      <td>2</td>\n",
       "      <td>1</td>\n",
       "    </tr>\n",
       "    <tr>\n",
       "      <th>4</th>\n",
       "      <td>0.701299</td>\n",
       "      <td>1</td>\n",
       "      <td>3</td>\n",
       "      <td>0.75</td>\n",
       "      <td>0.323383</td>\n",
       "      <td>0.0</td>\n",
       "      <td>1</td>\n",
       "      <td>0.603960</td>\n",
       "      <td>0</td>\n",
       "      <td>0.000000</td>\n",
       "      <td>0</td>\n",
       "      <td>0</td>\n",
       "    </tr>\n",
       "    <tr>\n",
       "      <th>...</th>\n",
       "      <td>...</td>\n",
       "      <td>...</td>\n",
       "      <td>...</td>\n",
       "      <td>...</td>\n",
       "      <td>...</td>\n",
       "      <td>...</td>\n",
       "      <td>...</td>\n",
       "      <td>...</td>\n",
       "      <td>...</td>\n",
       "      <td>...</td>\n",
       "      <td>...</td>\n",
       "      <td>...</td>\n",
       "    </tr>\n",
       "    <tr>\n",
       "      <th>913</th>\n",
       "      <td>0.584416</td>\n",
       "      <td>1</td>\n",
       "      <td>2</td>\n",
       "      <td>0.55</td>\n",
       "      <td>0.437811</td>\n",
       "      <td>0.0</td>\n",
       "      <td>1</td>\n",
       "      <td>0.653465</td>\n",
       "      <td>0</td>\n",
       "      <td>0.193548</td>\n",
       "      <td>2</td>\n",
       "      <td>1</td>\n",
       "    </tr>\n",
       "    <tr>\n",
       "      <th>914</th>\n",
       "      <td>0.883117</td>\n",
       "      <td>1</td>\n",
       "      <td>1</td>\n",
       "      <td>0.72</td>\n",
       "      <td>0.320066</td>\n",
       "      <td>1.0</td>\n",
       "      <td>1</td>\n",
       "      <td>0.698020</td>\n",
       "      <td>0</td>\n",
       "      <td>0.548387</td>\n",
       "      <td>2</td>\n",
       "      <td>1</td>\n",
       "    </tr>\n",
       "    <tr>\n",
       "      <th>915</th>\n",
       "      <td>0.740260</td>\n",
       "      <td>1</td>\n",
       "      <td>1</td>\n",
       "      <td>0.65</td>\n",
       "      <td>0.217247</td>\n",
       "      <td>0.0</td>\n",
       "      <td>1</td>\n",
       "      <td>0.569307</td>\n",
       "      <td>1</td>\n",
       "      <td>0.193548</td>\n",
       "      <td>2</td>\n",
       "      <td>1</td>\n",
       "    </tr>\n",
       "    <tr>\n",
       "      <th>916</th>\n",
       "      <td>0.740260</td>\n",
       "      <td>0</td>\n",
       "      <td>0</td>\n",
       "      <td>0.65</td>\n",
       "      <td>0.391376</td>\n",
       "      <td>0.0</td>\n",
       "      <td>0</td>\n",
       "      <td>0.861386</td>\n",
       "      <td>0</td>\n",
       "      <td>0.000000</td>\n",
       "      <td>2</td>\n",
       "      <td>1</td>\n",
       "    </tr>\n",
       "    <tr>\n",
       "      <th>917</th>\n",
       "      <td>0.493506</td>\n",
       "      <td>1</td>\n",
       "      <td>3</td>\n",
       "      <td>0.69</td>\n",
       "      <td>0.290216</td>\n",
       "      <td>0.0</td>\n",
       "      <td>1</td>\n",
       "      <td>0.856436</td>\n",
       "      <td>0</td>\n",
       "      <td>0.000000</td>\n",
       "      <td>0</td>\n",
       "      <td>0</td>\n",
       "    </tr>\n",
       "  </tbody>\n",
       "</table>\n",
       "<p>918 rows × 12 columns</p>\n",
       "</div>"
      ],
      "text/plain": [
       "          AGE  SEXE  TDT   PAR  CHOLESTEROL  GAJ  ECG     FCMAX  ANGINE  \\\n",
       "0    0.519481     1    0  0.70     0.479270  0.0    1  0.851485       0   \n",
       "1    0.636364     0    3  0.80     0.298507  0.0    1  0.772277       0   \n",
       "2    0.480519     1    0  0.65     0.469320  0.0    2  0.485149       0   \n",
       "3    0.623377     0    1  0.69     0.354892  0.0    1  0.534653       1   \n",
       "4    0.701299     1    3  0.75     0.323383  0.0    1  0.603960       0   \n",
       "..        ...   ...  ...   ...          ...  ...  ...       ...     ...   \n",
       "913  0.584416     1    2  0.55     0.437811  0.0    1  0.653465       0   \n",
       "914  0.883117     1    1  0.72     0.320066  1.0    1  0.698020       0   \n",
       "915  0.740260     1    1  0.65     0.217247  0.0    1  0.569307       1   \n",
       "916  0.740260     0    0  0.65     0.391376  0.0    0  0.861386       0   \n",
       "917  0.493506     1    3  0.69     0.290216  0.0    1  0.856436       0   \n",
       "\n",
       "     DEPRESSION   PENTE  CŒUR  \n",
       "0       0.000000      0     0  \n",
       "1       0.161290      2     1  \n",
       "2       0.000000      0     0  \n",
       "3       0.241935      2     1  \n",
       "4       0.000000      0     0  \n",
       "..           ...    ...   ...  \n",
       "913     0.193548      2     1  \n",
       "914     0.548387      2     1  \n",
       "915     0.193548      2     1  \n",
       "916     0.000000      2     1  \n",
       "917     0.000000      0     0  \n",
       "\n",
       "[918 rows x 12 columns]"
      ]
     },
     "execution_count": 128,
     "metadata": {},
     "output_type": "execute_result"
    }
   ],
   "source": [
    "normalisation(df)"
   ]
  },
  {
   "cell_type": "markdown",
   "id": "b3b76cbe",
   "metadata": {},
   "source": [
    "# Division des données en train et test"
   ]
  },
  {
   "cell_type": "code",
   "execution_count": 129,
   "id": "a0486f6f",
   "metadata": {},
   "outputs": [],
   "source": [
    "# division de notre dataset en feature et target\n",
    "X=df.drop(\"CŒUR\",axis=1)"
   ]
  },
  {
   "cell_type": "code",
   "execution_count": 130,
   "id": "fd7748e0",
   "metadata": {},
   "outputs": [],
   "source": [
    "Y=df[\"CŒUR\"]"
   ]
  },
  {
   "cell_type": "code",
   "execution_count": 131,
   "id": "cefd3497",
   "metadata": {},
   "outputs": [],
   "source": [
    "# repatition de nos données en données d'entrainement train et de test \n",
    "X_train,X_test,Y_train,Y_test=train_test_split(X,Y,test_size=0.3,random_state=5)"
   ]
  },
  {
   "cell_type": "code",
   "execution_count": 132,
   "id": "54b29b84",
   "metadata": {},
   "outputs": [
    {
     "data": {
      "text/html": [
       "<div>\n",
       "<style scoped>\n",
       "    .dataframe tbody tr th:only-of-type {\n",
       "        vertical-align: middle;\n",
       "    }\n",
       "\n",
       "    .dataframe tbody tr th {\n",
       "        vertical-align: top;\n",
       "    }\n",
       "\n",
       "    .dataframe thead th {\n",
       "        text-align: right;\n",
       "    }\n",
       "</style>\n",
       "<table border=\"1\" class=\"dataframe\">\n",
       "  <thead>\n",
       "    <tr style=\"text-align: right;\">\n",
       "      <th></th>\n",
       "      <th>AGE</th>\n",
       "      <th>SEXE</th>\n",
       "      <th>TDT</th>\n",
       "      <th>PAR</th>\n",
       "      <th>CHOLESTEROL</th>\n",
       "      <th>GAJ</th>\n",
       "      <th>ECG</th>\n",
       "      <th>FCMAX</th>\n",
       "      <th>ANGINE</th>\n",
       "      <th>DEPRESSION</th>\n",
       "      <th>PENTE</th>\n",
       "    </tr>\n",
       "  </thead>\n",
       "  <tbody>\n",
       "    <tr>\n",
       "      <th>236</th>\n",
       "      <td>0.532468</td>\n",
       "      <td>1</td>\n",
       "      <td>1</td>\n",
       "      <td>0.60</td>\n",
       "      <td>0.557214</td>\n",
       "      <td>0.0</td>\n",
       "      <td>1</td>\n",
       "      <td>0.584158</td>\n",
       "      <td>1</td>\n",
       "      <td>0.483871</td>\n",
       "      <td>2</td>\n",
       "    </tr>\n",
       "    <tr>\n",
       "      <th>151</th>\n",
       "      <td>0.623377</td>\n",
       "      <td>1</td>\n",
       "      <td>0</td>\n",
       "      <td>0.50</td>\n",
       "      <td>0.263682</td>\n",
       "      <td>0.0</td>\n",
       "      <td>1</td>\n",
       "      <td>0.495050</td>\n",
       "      <td>0</td>\n",
       "      <td>0.000000</td>\n",
       "      <td>0</td>\n",
       "    </tr>\n",
       "    <tr>\n",
       "      <th>329</th>\n",
       "      <td>0.779221</td>\n",
       "      <td>1</td>\n",
       "      <td>1</td>\n",
       "      <td>0.65</td>\n",
       "      <td>0.000000</td>\n",
       "      <td>1.0</td>\n",
       "      <td>2</td>\n",
       "      <td>0.643564</td>\n",
       "      <td>1</td>\n",
       "      <td>0.177419</td>\n",
       "      <td>1</td>\n",
       "    </tr>\n",
       "    <tr>\n",
       "      <th>416</th>\n",
       "      <td>0.818182</td>\n",
       "      <td>1</td>\n",
       "      <td>1</td>\n",
       "      <td>0.70</td>\n",
       "      <td>0.431177</td>\n",
       "      <td>0.0</td>\n",
       "      <td>2</td>\n",
       "      <td>0.554455</td>\n",
       "      <td>1</td>\n",
       "      <td>0.483871</td>\n",
       "      <td>2</td>\n",
       "    </tr>\n",
       "    <tr>\n",
       "      <th>795</th>\n",
       "      <td>0.545455</td>\n",
       "      <td>1</td>\n",
       "      <td>3</td>\n",
       "      <td>0.60</td>\n",
       "      <td>0.398010</td>\n",
       "      <td>1.0</td>\n",
       "      <td>1</td>\n",
       "      <td>0.960396</td>\n",
       "      <td>0</td>\n",
       "      <td>0.129032</td>\n",
       "      <td>1</td>\n",
       "    </tr>\n",
       "    <tr>\n",
       "      <th>...</th>\n",
       "      <td>...</td>\n",
       "      <td>...</td>\n",
       "      <td>...</td>\n",
       "      <td>...</td>\n",
       "      <td>...</td>\n",
       "      <td>...</td>\n",
       "      <td>...</td>\n",
       "      <td>...</td>\n",
       "      <td>...</td>\n",
       "      <td>...</td>\n",
       "      <td>...</td>\n",
       "    </tr>\n",
       "    <tr>\n",
       "      <th>803</th>\n",
       "      <td>0.805195</td>\n",
       "      <td>0</td>\n",
       "      <td>1</td>\n",
       "      <td>0.70</td>\n",
       "      <td>0.653400</td>\n",
       "      <td>0.0</td>\n",
       "      <td>0</td>\n",
       "      <td>0.777228</td>\n",
       "      <td>0</td>\n",
       "      <td>0.193548</td>\n",
       "      <td>2</td>\n",
       "    </tr>\n",
       "    <tr>\n",
       "      <th>521</th>\n",
       "      <td>0.792208</td>\n",
       "      <td>1</td>\n",
       "      <td>1</td>\n",
       "      <td>0.60</td>\n",
       "      <td>0.467662</td>\n",
       "      <td>0.0</td>\n",
       "      <td>2</td>\n",
       "      <td>0.668317</td>\n",
       "      <td>1</td>\n",
       "      <td>0.645161</td>\n",
       "      <td>1</td>\n",
       "    </tr>\n",
       "    <tr>\n",
       "      <th>249</th>\n",
       "      <td>0.636364</td>\n",
       "      <td>1</td>\n",
       "      <td>1</td>\n",
       "      <td>0.65</td>\n",
       "      <td>0.565506</td>\n",
       "      <td>0.0</td>\n",
       "      <td>1</td>\n",
       "      <td>0.594059</td>\n",
       "      <td>1</td>\n",
       "      <td>0.161290</td>\n",
       "      <td>2</td>\n",
       "    </tr>\n",
       "    <tr>\n",
       "      <th>588</th>\n",
       "      <td>0.870130</td>\n",
       "      <td>1</td>\n",
       "      <td>1</td>\n",
       "      <td>0.70</td>\n",
       "      <td>0.363184</td>\n",
       "      <td>0.0</td>\n",
       "      <td>2</td>\n",
       "      <td>0.603960</td>\n",
       "      <td>1</td>\n",
       "      <td>0.322581</td>\n",
       "      <td>2</td>\n",
       "    </tr>\n",
       "    <tr>\n",
       "      <th>664</th>\n",
       "      <td>0.844156</td>\n",
       "      <td>0</td>\n",
       "      <td>1</td>\n",
       "      <td>0.75</td>\n",
       "      <td>0.373134</td>\n",
       "      <td>0.0</td>\n",
       "      <td>0</td>\n",
       "      <td>0.564356</td>\n",
       "      <td>0</td>\n",
       "      <td>0.161290</td>\n",
       "      <td>2</td>\n",
       "    </tr>\n",
       "  </tbody>\n",
       "</table>\n",
       "<p>276 rows × 11 columns</p>\n",
       "</div>"
      ],
      "text/plain": [
       "          AGE  SEXE  TDT   PAR  CHOLESTEROL  GAJ  ECG     FCMAX  ANGINE  \\\n",
       "236  0.532468     1    1  0.60     0.557214  0.0    1  0.584158       1   \n",
       "151  0.623377     1    0  0.50     0.263682  0.0    1  0.495050       0   \n",
       "329  0.779221     1    1  0.65     0.000000  1.0    2  0.643564       1   \n",
       "416  0.818182     1    1  0.70     0.431177  0.0    2  0.554455       1   \n",
       "795  0.545455     1    3  0.60     0.398010  1.0    1  0.960396       0   \n",
       "..        ...   ...  ...   ...          ...  ...  ...       ...     ...   \n",
       "803  0.805195     0    1  0.70     0.653400  0.0    0  0.777228       0   \n",
       "521  0.792208     1    1  0.60     0.467662  0.0    2  0.668317       1   \n",
       "249  0.636364     1    1  0.65     0.565506  0.0    1  0.594059       1   \n",
       "588  0.870130     1    1  0.70     0.363184  0.0    2  0.603960       1   \n",
       "664  0.844156     0    1  0.75     0.373134  0.0    0  0.564356       0   \n",
       "\n",
       "     DEPRESSION   PENTE  \n",
       "236     0.483871      2  \n",
       "151     0.000000      0  \n",
       "329     0.177419      1  \n",
       "416     0.483871      2  \n",
       "795     0.129032      1  \n",
       "..           ...    ...  \n",
       "803     0.193548      2  \n",
       "521     0.645161      1  \n",
       "249     0.161290      2  \n",
       "588     0.322581      2  \n",
       "664     0.161290      2  \n",
       "\n",
       "[276 rows x 11 columns]"
      ]
     },
     "execution_count": 132,
     "metadata": {},
     "output_type": "execute_result"
    }
   ],
   "source": [
    "X_test"
   ]
  },
  {
   "cell_type": "code",
   "execution_count": 133,
   "id": "cd17fa64",
   "metadata": {},
   "outputs": [],
   "source": [
    "X_test.to_csv(r\"C:\\Users\\cyberTechs\\Desktop\\DATASET\\X_test.csv\",index=None,header=True)"
   ]
  },
  {
   "cell_type": "code",
   "execution_count": 134,
   "id": "751efb8e",
   "metadata": {},
   "outputs": [
    {
     "name": "stdout",
     "output_type": "stream",
     "text": [
      "les dimensions de X_train sont (642, 11)\n",
      "les dimensions de X_test sont (276, 11)\n",
      "les dimensions de Y_train sont (642,)\n",
      "les dimensions de Y_test sont (276,)\n"
     ]
    },
    {
     "data": {
      "text/plain": [
       "2"
      ]
     },
     "execution_count": 134,
     "metadata": {},
     "output_type": "execute_result"
    }
   ],
   "source": [
    "# les dimensions de nos jeux données repartie\n",
    "print(\"les dimensions de X_train sont {}\".format(X_train.shape))\n",
    "print(\"les dimensions de X_test sont {}\".format(X_test.shape))\n",
    "print(\"les dimensions de Y_train sont {}\".format(Y_train.shape))\n",
    "print(\"les dimensions de Y_test sont {}\".format(Y_test.shape))\n",
    "X_testt=np.array(X_test)\n",
    "X_testt.ndim"
   ]
  },
  {
   "cell_type": "markdown",
   "id": "ececec35",
   "metadata": {},
   "source": [
    "# ENTRAINEMENT DU MODEL SANS STANDARDISER LES DONNEES "
   ]
  },
  {
   "cell_type": "markdown",
   "id": "fe135e15",
   "metadata": {},
   "source": [
    "# ENTRAINEMENT DU MODEL"
   ]
  },
  {
   "cell_type": "code",
   "execution_count": 135,
   "id": "3de044a4",
   "metadata": {},
   "outputs": [],
   "source": [
    "#choisir un model et l'instancié arbre_deci = tree.DecisionTreeClasifier()\n",
    "decision_tree = tree.DecisionTreeClassifier()"
   ]
  },
  {
   "cell_type": "code",
   "execution_count": 136,
   "id": "e33be74d",
   "metadata": {},
   "outputs": [
    {
     "data": {
      "text/plain": [
       "DecisionTreeClassifier()"
      ]
     },
     "execution_count": 136,
     "metadata": {},
     "output_type": "execute_result"
    }
   ],
   "source": [
    "#entrainement de notre model\n",
    "decision_tree.fit(X_train, Y_train)"
   ]
  },
  {
   "cell_type": "code",
   "execution_count": 137,
   "id": "c4d0bf27",
   "metadata": {},
   "outputs": [],
   "source": [
    "prediction= decision_tree.predict(X_test)"
   ]
  },
  {
   "cell_type": "code",
   "execution_count": 138,
   "id": "3d0a899a",
   "metadata": {},
   "outputs": [
    {
     "name": "stdout",
     "output_type": "stream",
     "text": [
      "0.8188405797101449\n"
     ]
    }
   ],
   "source": [
    "#le score de notre model\n",
    "score = decision_tree.score(X_test, Y_test)\n",
    "print(score)"
   ]
  },
  {
   "cell_type": "markdown",
   "id": "96ac3f0e",
   "metadata": {},
   "source": [
    "# EVALUATION DE NOTRE MODEL"
   ]
  },
  {
   "cell_type": "code",
   "execution_count": 139,
   "id": "d76efed0",
   "metadata": {},
   "outputs": [
    {
     "name": "stdout",
     "output_type": "stream",
     "text": [
      "Precision:  0.8689655172413793\n",
      "Recall:  0.802547770700637\n"
     ]
    }
   ],
   "source": [
    "precision = precision_score(Y_test, prediction)\n",
    "recall = recall_score(Y_test, prediction)\n",
    "\n",
    "print('Precision: ',precision)\n",
    "print('Recall: ',recall)\n"
   ]
  },
  {
   "cell_type": "markdown",
   "id": "8595a8c8",
   "metadata": {},
   "source": [
    "# CONFUSION MATRIX"
   ]
  },
  {
   "cell_type": "code",
   "execution_count": 140,
   "id": "ad7b0ab4",
   "metadata": {},
   "outputs": [
    {
     "data": {
      "text/plain": [
       "array([[100,  19],\n",
       "       [ 31, 126]], dtype=int64)"
      ]
     },
     "execution_count": 140,
     "metadata": {},
     "output_type": "execute_result"
    }
   ],
   "source": [
    "# la matrice de confusion pour mieux apprecier la performance de notre model\n",
    "CM = confusion_matrix(Y_test, prediction)\n",
    "#predict_value=pd.Series(logisticRegr.predict(X_test),name=\"prediction\")\n",
    "#df_confusion = pd.crosstab(Y_test, predict_value)\n",
    "#df_confusion\n",
    "CM"
   ]
  },
  {
   "cell_type": "markdown",
   "id": "29f89871",
   "metadata": {},
   "source": [
    "# ENTRAINEMENT DU MODEL SUR LES DONNEES STANDARDISER "
   ]
  },
  {
   "cell_type": "code",
   "execution_count": 141,
   "id": "cf0ecdb5",
   "metadata": {},
   "outputs": [
    {
     "data": {
      "text/plain": [
       "276"
      ]
     },
     "execution_count": 141,
     "metadata": {},
     "output_type": "execute_result"
    }
   ],
   "source": [
    "# STANTARDISONS NOTRE DF\n",
    "standa_scaler=StandardScaler()\n",
    "X_train2=standa_scaler.fit_transform(X_train)\n",
    "X_test2=standa_scaler.fit_transform(X_test)\n",
    "len(X_test2)"
   ]
  },
  {
   "cell_type": "code",
   "execution_count": 142,
   "id": "aa2740dc",
   "metadata": {},
   "outputs": [],
   "source": [
    "#Model arbre de décision 2\n",
    "model2=tree.DecisionTreeClassifier()"
   ]
  },
  {
   "cell_type": "code",
   "execution_count": 143,
   "id": "d440c6f2",
   "metadata": {},
   "outputs": [
    {
     "data": {
      "text/plain": [
       "DecisionTreeClassifier()"
      ]
     },
     "execution_count": 143,
     "metadata": {},
     "output_type": "execute_result"
    }
   ],
   "source": [
    "model2.fit(X_train2,Y_train)"
   ]
  },
  {
   "cell_type": "code",
   "execution_count": 144,
   "id": "003cdb44",
   "metadata": {},
   "outputs": [
    {
     "data": {
      "text/plain": [
       "0.8007246376811594"
      ]
     },
     "execution_count": 144,
     "metadata": {},
     "output_type": "execute_result"
    }
   ],
   "source": [
    "model2.score(X_test2,Y_test)"
   ]
  },
  {
   "cell_type": "code",
   "execution_count": 151,
   "id": "0ef0cc27",
   "metadata": {},
   "outputs": [],
   "source": [
    "prediction2=model2.predict(X_test)"
   ]
  },
  {
   "cell_type": "code",
   "execution_count": 155,
   "id": "053342cf",
   "metadata": {},
   "outputs": [
    {
     "name": "stdout",
     "output_type": "stream",
     "text": [
      "Precision:  0.8793103448275862\n",
      "Recall:  0.6496815286624203\n"
     ]
    }
   ],
   "source": [
    "precision2 = precision_score(Y_test, prediction2)\n",
    "recall2 = recall_score(Y_test, prediction2)\n",
    "\n",
    "print('Precision: ',precision2)\n",
    "print('Recall: ',recall2)\n"
   ]
  },
  {
   "cell_type": "markdown",
   "id": "26846af7",
   "metadata": {},
   "source": [
    "# ENREGISTREMENT DE NOTRE MODEL AVEC PICKLE"
   ]
  },
  {
   "cell_type": "code",
   "execution_count": 146,
   "id": "8f43db4a",
   "metadata": {},
   "outputs": [],
   "source": [
    "#pickle.dump(logisticRegr,open(\"model.pkl\",\"wb\"))"
   ]
  },
  {
   "cell_type": "code",
   "execution_count": 147,
   "id": "bb57e808",
   "metadata": {},
   "outputs": [],
   "source": [
    "#Z=np.array([0.24,0.4,1,0.12,0,1,0.5,0.78,1,0,1])\n",
    "#Z=Z.reshape(1,-1)\n",
    "#Z"
   ]
  },
  {
   "cell_type": "code",
   "execution_count": 148,
   "id": "3e4e62e5",
   "metadata": {},
   "outputs": [],
   "source": [
    "#logisticRegr = logisticRegr.predict(Z)"
   ]
  },
  {
   "cell_type": "code",
   "execution_count": 149,
   "id": "db668bcd",
   "metadata": {},
   "outputs": [],
   "source": [
    "#x=[int(x) for x in range(11)]"
   ]
  },
  {
   "cell_type": "code",
   "execution_count": 150,
   "id": "5f0c68a1",
   "metadata": {},
   "outputs": [],
   "source": [
    "#x_np=np.array(x).reshape(-1,1)\n",
    "#x_np.ndim"
   ]
  },
  {
   "cell_type": "code",
   "execution_count": null,
   "id": "26e57d01",
   "metadata": {},
   "outputs": [],
   "source": []
  }
 ],
 "metadata": {
  "kernelspec": {
   "display_name": "Python 3",
   "language": "python",
   "name": "python3"
  },
  "language_info": {
   "codemirror_mode": {
    "name": "ipython",
    "version": 3
   },
   "file_extension": ".py",
   "mimetype": "text/x-python",
   "name": "python",
   "nbconvert_exporter": "python",
   "pygments_lexer": "ipython3",
   "version": "3.8.8"
  }
 },
 "nbformat": 4,
 "nbformat_minor": 5
}
